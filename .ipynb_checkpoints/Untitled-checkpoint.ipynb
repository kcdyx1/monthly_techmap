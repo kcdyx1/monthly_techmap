{
 "cells": [
  {
   "cell_type": "code",
   "execution_count": 8,
   "metadata": {},
   "outputs": [
    {
     "name": "stdout",
     "output_type": "stream",
     "text": [
      "信息 77\n",
      "先进制造 24\n",
      "新材料 35\n",
      "海洋 28\n",
      "生物 66\n",
      "科技战略 44\n",
      "能源 57\n",
      "航天 27\n",
      "航空 29\n"
     ]
    }
   ],
   "source": [
    "\n",
    "import numpy as np\n",
    "import pandas as pd\n",
    "\n",
    "d = pd.read_csv('./1808/8yue_all.csv',header=0)\n",
    "d2 = d.groupby('field')\n",
    "for name,group in d2:\n",
    "    print (name,group.describe()['title'][1])\n"
   ]
  },
  {
   "cell_type": "code",
   "execution_count": null,
   "metadata": {},
   "outputs": [],
   "source": []
  }
 ],
 "metadata": {
  "kernelspec": {
   "display_name": "Python 3",
   "language": "python",
   "name": "python3"
  },
  "language_info": {
   "codemirror_mode": {
    "name": "ipython",
    "version": 3
   },
   "file_extension": ".py",
   "mimetype": "text/x-python",
   "name": "python",
   "nbconvert_exporter": "python",
   "pygments_lexer": "ipython3",
   "version": "3.6.6"
  }
 },
 "nbformat": 4,
 "nbformat_minor": 2
}
